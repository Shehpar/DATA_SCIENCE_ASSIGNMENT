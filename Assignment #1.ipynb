{
 "cells": [
  {
   "cell_type": "code",
   "execution_count": 4,
   "id": "8474b809",
   "metadata": {},
   "outputs": [
    {
     "name": "stdout",
     "output_type": "stream",
     "text": [
      "Version of Python is:  3.9.7 (default, Sep 16 2021, 16:59:28) [MSC v.1916 64 bit (AMD64)]\n"
     ]
    }
   ],
   "source": [
    "import sys\n",
    "print(\"Version of Python is: \",sys.version)"
   ]
  },
  {
   "cell_type": "code",
   "execution_count": 7,
   "id": "f4ba94d0",
   "metadata": {},
   "outputs": [
    {
     "name": "stdout",
     "output_type": "stream",
     "text": [
      "Today Date:  2022-01-01\n"
     ]
    }
   ],
   "source": [
    "from datetime import datetime\n",
    "print (\"Today Date: \",date.today())"
   ]
  },
  {
   "cell_type": "code",
   "execution_count": 14,
   "id": "70d7b351",
   "metadata": {},
   "outputs": [
    {
     "name": "stdout",
     "output_type": "stream",
     "text": [
      "Time:  2022-01-01 00:20:38.222786\n"
     ]
    }
   ],
   "source": [
    "from datetime import datetime\n",
    "print(\"Time: \",datetime.now())"
   ]
  },
  {
   "cell_type": "code",
   "execution_count": 19,
   "id": "647b9110",
   "metadata": {},
   "outputs": [
    {
     "name": "stdout",
     "output_type": "stream",
     "text": [
      "Enter the value of Radius of Circle: 5\n",
      "Area of Circle is:  15.707963267948966\n"
     ]
    }
   ],
   "source": [
    "import math\n",
    "import numpy\n",
    "a=float(input(\"Enter the value of Radius of Circle: \"))\n",
    "b=math.pi\n",
    "c=numpy.square(a)\n",
    "Area=b*a\n",
    "print (\"Area of Circle is: \",Area)"
   ]
  },
  {
   "cell_type": "code",
   "execution_count": 26,
   "id": "c0c5b89e",
   "metadata": {},
   "outputs": [
    {
     "name": "stdout",
     "output_type": "stream",
     "text": [
      "Twinkle,twinkle,little,star\n",
      "\t How I wonder what you are\n",
      "\t \t up above the world so high,\n",
      "\t \t Like a diamond in the sky\n",
      "Twinkle,twinkle,little,star\n",
      "\t How I wonder what you are\n"
     ]
    }
   ],
   "source": [
    "print(\"Twinkle,twinkle,little,star\")\n",
    "print(\"\\t How I wonder what you are\")\n",
    "print(\"\\t \\t up above the world so high,\")\n",
    "print(\"\\t \\t Like a diamond in the sky\")\n",
    "print(\"Twinkle,twinkle,little,star\")\n",
    "print(\"\\t How I wonder what you are\")\n",
    "\n",
    "    \n"
   ]
  },
  {
   "cell_type": "code",
   "execution_count": 28,
   "id": "cc108c6c",
   "metadata": {},
   "outputs": [
    {
     "name": "stdout",
     "output_type": "stream",
     "text": [
      "Enter first Number: 3\n",
      "Enter second Number: 5\n",
      "Addition of two number is:  8\n"
     ]
    }
   ],
   "source": [
    "a=int(input(\"Enter first Number: \"))\n",
    "b=int(input(\"Enter second Number: \"))\n",
    "c=a+b\n",
    "print(\"Addition of two number is: \",c)"
   ]
  },
  {
   "cell_type": "code",
   "execution_count": null,
   "id": "ac030148",
   "metadata": {},
   "outputs": [],
   "source": []
  }
 ],
 "metadata": {
  "kernelspec": {
   "display_name": "Python 3 (ipykernel)",
   "language": "python",
   "name": "python3"
  },
  "language_info": {
   "codemirror_mode": {
    "name": "ipython",
    "version": 3
   },
   "file_extension": ".py",
   "mimetype": "text/x-python",
   "name": "python",
   "nbconvert_exporter": "python",
   "pygments_lexer": "ipython3",
   "version": "3.9.7"
  }
 },
 "nbformat": 4,
 "nbformat_minor": 5
}
